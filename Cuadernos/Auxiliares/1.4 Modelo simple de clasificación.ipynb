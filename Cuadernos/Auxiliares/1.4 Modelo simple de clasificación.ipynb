{
 "cells": [
  {
   "cell_type": "markdown",
   "metadata": {},
   "source": [
    "# Modelo no supervisado de clasificación de texto\n",
    "\n",
    "## Introducción\n",
    "\n",
    "En este notebook se presenta un modelo no supervisado de clasificación de texto. El modelo se basa en el uso de embeddings de palabras y clustering. Se utiliza el algoritmo de clustering KMeans para agrupar los textos en clusters. \n",
    "\n"
   ]
  },
  {
   "cell_type": "code",
   "execution_count": 9,
   "metadata": {},
   "outputs": [
    {
     "name": "stderr",
     "output_type": "stream",
     "text": [
      "[nltk_data] Downloading package stopwords to /home/isaac-\n",
      "[nltk_data]     zainea/nltk_data...\n",
      "[nltk_data]   Package stopwords is already up-to-date!\n",
      "[nltk_data] Downloading package punkt to /home/isaac-\n",
      "[nltk_data]     zainea/nltk_data...\n",
      "[nltk_data]   Package punkt is already up-to-date!\n"
     ]
    }
   ],
   "source": [
    "### Librerias necesarias Doc2Vec\n",
    "\n",
    "import gensim\n",
    "from gensim.models import Doc2Vec\n",
    "from gensim.models.doc2vec import TaggedDocument\n",
    "\n",
    "### Librerias necesarias para el preprocesamiento de texto\n",
    "import nltk\n",
    "from nltk.corpus import stopwords\n",
    "from nltk.tokenize import word_tokenize\n",
    "from nltk.stem import PorterStemmer\n",
    "\n",
    "### Descargar stopwords\n",
    "nltk.download('stopwords')\n",
    "nltk.download('punkt')\n",
    "\n",
    "\n",
    "### Otras librerias necesarias\n",
    "import numpy as np\n",
    "import pandas as pd\n",
    "import re\n",
    "import os"
   ]
  },
  {
   "cell_type": "markdown",
   "metadata": {},
   "source": [
    "### 1.1 Modelo Doc2Vec\n",
    "\n",
    "El modelo Doc2Vec es una extensión del modelo Word2Vec que agrega un vector adicional para cada documento en el corpus. Este vector adicional se entrena junto con los vectores de palabras y se utiliza para representar el contenido de un documento en un espacio vectorial. Esto permite comparar documentos y encontrar similitudes entre ellos. En este caso ocurre lo siguiente:\n",
    "\n",
    "#### ¿Cómo funciona Doc2Vec?\n",
    "\n",
    "Doc2Vec tiene dos enfoques principales:\n",
    "\n",
    "1. **PV-DM (Distributed Memory):** Este modelo predice una palabra en el documento usando el contexto de palabras a su alrededor y un vector que representa al documento completo. En otras palabras:\n",
    "   - Se toma un documento y se le asigna un vector único (el vector del documento).\n",
    "   - Luego, junto con las palabras cercanas, este vector se usa para predecir una palabra en el documento.\n",
    "   - Al entrenar el modelo, este vector se va ajustando para que capture mejor el significado del documento.\n",
    "\n",
    "2. **PV-DBOW (Distributed Bag of Words):** Aquí se usa solo el vector del documento para predecir palabras al azar dentro del documento, sin tener en cuenta el contexto de palabras. Es más rápido, pero menos preciso.\n",
    "\n",
    "En resumen, Doc2Vec es un modelo que entrena vectores para palabras y documentos al mismo tiempo. Estos vectores pueden ser usados luego para comparar documentos, encontrar similitudes entre ellos, o incluso para clasificarlos.\n",
    "\n",
    "![Proceso doc2vec](../../Datos/Imágenes/doc2vec.png)\n"
   ]
  },
  {
   "cell_type": "markdown",
   "metadata": {},
   "source": [
    "## 2. Cargar el texto\n",
    "\n",
    "El dataset \"es_tweets_laboral\" de la colección \"somosnlp-hackathon-2022\" en Hugging Face está diseñado específicamente para el análisis de texto relacionado con temas laborales en español. Este dataset contiene tuits que abordan temas laborales, y es ideal para tareas de clasificación de texto, análisis de sentimientos, y otras aplicaciones de procesamiento de lenguaje natural (NLP) enfocadas en el ámbito laboral.\n",
    "\n",
    "**Características del Dataset:**\n",
    "- *Contenido*: Incluye tuits en español relacionados con temas laborales, como empleo, condiciones de trabajo, y derechos laborales.\n",
    "- *Etiquetas*: Los tuits pueden estar etiquetados según el tema o el sentimiento, lo que facilita su uso en tareas de clasificación supervisada.\n",
    "- *Aplicaciones*: Este dataset es útil para construir modelos que analicen la percepción de los usuarios sobre temas laborales, detectar tendencias en el mercado laboral, o identificar problemas comunes en el ámbito laboral.\n",
    "\n",
    "El dataset es parte de un esfuerzo colaborativo durante el Hackathon de SomosNLP en 2022, que busca fomentar el desarrollo de tecnologías de procesamiento de lenguaje natural en español.\n",
    "\n"
   ]
  },
  {
   "cell_type": "code",
   "execution_count": 10,
   "metadata": {},
   "outputs": [
    {
     "name": "stdout",
     "output_type": "stream",
     "text": [
      "DatasetDict({\n",
      "    train: Dataset({\n",
      "        features: ['text', 'intent', 'entities'],\n",
      "        num_rows: 184\n",
      "    })\n",
      "    test: Dataset({\n",
      "        features: ['text', 'intent', 'entities'],\n",
      "        num_rows: 47\n",
      "    })\n",
      "})\n"
     ]
    }
   ],
   "source": [
    "### Carga dataset desde huggingface\n",
    "\n",
    "from datasets import load_dataset\n",
    "import tqdm as notebook_tqdm\n",
    "import re\n",
    "\n",
    "# Cargando el dataset \"es_tweets_laboral\" desde Hugging Face\n",
    "dataset = load_dataset(\"somosnlp-hackathon-2022/es_tweets_laboral\")\n",
    "\n",
    "# Explorando el contenido del dataset\n",
    "print(dataset)\n"
   ]
  },
  {
   "cell_type": "code",
   "execution_count": 11,
   "metadata": {},
   "outputs": [
    {
     "name": "stdout",
     "output_type": "stream",
     "text": [
      "Shape of train data:  (184, 3)\n",
      "Shape of test data:  (47, 3)\n"
     ]
    },
    {
     "data": {
      "text/html": [
       "<div>\n",
       "<style scoped>\n",
       "    .dataframe tbody tr th:only-of-type {\n",
       "        vertical-align: middle;\n",
       "    }\n",
       "\n",
       "    .dataframe tbody tr th {\n",
       "        vertical-align: top;\n",
       "    }\n",
       "\n",
       "    .dataframe thead th {\n",
       "        text-align: right;\n",
       "    }\n",
       "</style>\n",
       "<table border=\"1\" class=\"dataframe\">\n",
       "  <thead>\n",
       "    <tr style=\"text-align: right;\">\n",
       "      <th></th>\n",
       "      <th>text</th>\n",
       "      <th>intent</th>\n",
       "      <th>entities</th>\n",
       "    </tr>\n",
       "  </thead>\n",
       "  <tbody>\n",
       "    <tr>\n",
       "      <th>0</th>\n",
       "      <td>ni siquiera decir \"palabras sucias\" te hace me...</td>\n",
       "      <td>abuso_autoridad</td>\n",
       "      <td>[{'value': 'mal jefe,', 'entity': 'denuncia'}]</td>\n",
       "    </tr>\n",
       "    <tr>\n",
       "      <th>1</th>\n",
       "      <td>un amigo de mi hermana le comentó, dudo mucho ...</td>\n",
       "      <td>salario_precario</td>\n",
       "      <td>[{'value': 'nos maltratan con el salario', 'en...</td>\n",
       "    </tr>\n",
       "    <tr>\n",
       "      <th>2</th>\n",
       "      <td>respecto a los salarios: todos merecemos un sa...</td>\n",
       "      <td>salario_precario</td>\n",
       "      <td>[{'value': 'salario que nos permita vivir dign...</td>\n",
       "    </tr>\n",
       "    <tr>\n",
       "      <th>3</th>\n",
       "      <td>@FOVISSSTEmx @fovissste Gracias por su atenció...</td>\n",
       "      <td>derechos_laborales</td>\n",
       "      <td>[{'value': 'no es un esquema que favorezca al ...</td>\n",
       "    </tr>\n",
       "    <tr>\n",
       "      <th>4</th>\n",
       "      <td>docentes venezolanos, perciben salarios insufi...</td>\n",
       "      <td>salario_precario</td>\n",
       "      <td>[{'value': 'perciben salarios insuficientes', ...</td>\n",
       "    </tr>\n",
       "  </tbody>\n",
       "</table>\n",
       "</div>"
      ],
      "text/plain": [
       "                                                text              intent  \\\n",
       "0  ni siquiera decir \"palabras sucias\" te hace me...     abuso_autoridad   \n",
       "1  un amigo de mi hermana le comentó, dudo mucho ...    salario_precario   \n",
       "2  respecto a los salarios: todos merecemos un sa...    salario_precario   \n",
       "3  @FOVISSSTEmx @fovissste Gracias por su atenció...  derechos_laborales   \n",
       "4  docentes venezolanos, perciben salarios insufi...    salario_precario   \n",
       "\n",
       "                                            entities  \n",
       "0     [{'value': 'mal jefe,', 'entity': 'denuncia'}]  \n",
       "1  [{'value': 'nos maltratan con el salario', 'en...  \n",
       "2  [{'value': 'salario que nos permita vivir dign...  \n",
       "3  [{'value': 'no es un esquema que favorezca al ...  \n",
       "4  [{'value': 'perciben salarios insuficientes', ...  "
      ]
     },
     "execution_count": 11,
     "metadata": {},
     "output_type": "execute_result"
    }
   ],
   "source": [
    "train = dataset['train']\n",
    "test = dataset['test']\n",
    "\n",
    "# Explorando el contenido de los datos de entrenamiento\n",
    "\n",
    "train_df = train.to_pandas()\n",
    "test_df = test.to_pandas()\n",
    "print(\"Shape of train data: \", train_df.shape)\n",
    "print(\"Shape of test data: \", test_df.shape)\n",
    "\n",
    "train_df.head()"
   ]
  },
  {
   "cell_type": "code",
   "execution_count": 12,
   "metadata": {},
   "outputs": [
    {
     "data": {
      "text/html": [
       "<div>\n",
       "<style scoped>\n",
       "    .dataframe tbody tr th:only-of-type {\n",
       "        vertical-align: middle;\n",
       "    }\n",
       "\n",
       "    .dataframe tbody tr th {\n",
       "        vertical-align: top;\n",
       "    }\n",
       "\n",
       "    .dataframe thead th {\n",
       "        text-align: right;\n",
       "    }\n",
       "</style>\n",
       "<table border=\"1\" class=\"dataframe\">\n",
       "  <thead>\n",
       "    <tr style=\"text-align: right;\">\n",
       "      <th></th>\n",
       "      <th>text</th>\n",
       "      <th>intent</th>\n",
       "      <th>entities</th>\n",
       "    </tr>\n",
       "  </thead>\n",
       "  <tbody>\n",
       "    <tr>\n",
       "      <th>0</th>\n",
       "      <td>#OficinaDeEnvigado #TrabajoPorHoras #AbusoLabo...</td>\n",
       "      <td>explotacion_laboral</td>\n",
       "      <td>[{'value': '#AbusoLaboral', 'entity': 'denunci...</td>\n",
       "    </tr>\n",
       "    <tr>\n",
       "      <th>1</th>\n",
       "      <td>@MarianaLaActriz Oiga no la he visto cotizar e...</td>\n",
       "      <td>acoso_laboral</td>\n",
       "      <td>[{'value': 'acoso sexual', 'entity': 'denuncia...</td>\n",
       "    </tr>\n",
       "    <tr>\n",
       "      <th>2</th>\n",
       "      <td>La Asociación de Rectores Universitarios exigi...</td>\n",
       "      <td>salario_precario</td>\n",
       "      <td>[{'value': 'ajuste del incremento salarial', '...</td>\n",
       "    </tr>\n",
       "    <tr>\n",
       "      <th>3</th>\n",
       "      <td>15).-Venezuela. Gobierno. Rusia. Presenta, en ...</td>\n",
       "      <td>salario_precario</td>\n",
       "      <td>[{'value': 'índice relativamente bajo de desem...</td>\n",
       "    </tr>\n",
       "    <tr>\n",
       "      <th>4</th>\n",
       "      <td>Después que Maduro bajó el salario mínimo de $...</td>\n",
       "      <td>salario_precario</td>\n",
       "      <td>[{'value': 'bajó el salario mínimo', 'entity':...</td>\n",
       "    </tr>\n",
       "  </tbody>\n",
       "</table>\n",
       "</div>"
      ],
      "text/plain": [
       "                                                text               intent  \\\n",
       "0  #OficinaDeEnvigado #TrabajoPorHoras #AbusoLabo...  explotacion_laboral   \n",
       "1  @MarianaLaActriz Oiga no la he visto cotizar e...        acoso_laboral   \n",
       "2  La Asociación de Rectores Universitarios exigi...     salario_precario   \n",
       "3  15).-Venezuela. Gobierno. Rusia. Presenta, en ...     salario_precario   \n",
       "4  Después que Maduro bajó el salario mínimo de $...     salario_precario   \n",
       "\n",
       "                                            entities  \n",
       "0  [{'value': '#AbusoLaboral', 'entity': 'denunci...  \n",
       "1  [{'value': 'acoso sexual', 'entity': 'denuncia...  \n",
       "2  [{'value': 'ajuste del incremento salarial', '...  \n",
       "3  [{'value': 'índice relativamente bajo de desem...  \n",
       "4  [{'value': 'bajó el salario mínimo', 'entity':...  "
      ]
     },
     "execution_count": 12,
     "metadata": {},
     "output_type": "execute_result"
    }
   ],
   "source": [
    "test_df.head()"
   ]
  },
  {
   "cell_type": "markdown",
   "metadata": {},
   "source": [
    "## 3. Preprocesamiento\n",
    "\n",
    "Empezamos por cargar el dataset y realizar un preprocesamiento básico de los textos. En este caso, se eliminan las menciones a usuarios, los enlaces, y los caracteres especiales. Además, se convierten los textos a minúsculas y se eliminan las stopwords."
   ]
  },
  {
   "cell_type": "code",
   "execution_count": 13,
   "metadata": {},
   "outputs": [
    {
     "data": {
      "text/html": [
       "<div>\n",
       "<style scoped>\n",
       "    .dataframe tbody tr th:only-of-type {\n",
       "        vertical-align: middle;\n",
       "    }\n",
       "\n",
       "    .dataframe tbody tr th {\n",
       "        vertical-align: top;\n",
       "    }\n",
       "\n",
       "    .dataframe thead th {\n",
       "        text-align: right;\n",
       "    }\n",
       "</style>\n",
       "<table border=\"1\" class=\"dataframe\">\n",
       "  <thead>\n",
       "    <tr style=\"text-align: right;\">\n",
       "      <th></th>\n",
       "      <th>text</th>\n",
       "      <th>intent</th>\n",
       "      <th>entities</th>\n",
       "      <th>text_pre</th>\n",
       "    </tr>\n",
       "  </thead>\n",
       "  <tbody>\n",
       "    <tr>\n",
       "      <th>0</th>\n",
       "      <td>ni siquiera decir \"palabras sucias\" te hace me...</td>\n",
       "      <td>abuso_autoridad</td>\n",
       "      <td>[{'value': 'mal jefe,', 'entity': 'denuncia'}]</td>\n",
       "      <td>siquiera decir palabras sucias hace menos prof...</td>\n",
       "    </tr>\n",
       "    <tr>\n",
       "      <th>1</th>\n",
       "      <td>un amigo de mi hermana le comentó, dudo mucho ...</td>\n",
       "      <td>salario_precario</td>\n",
       "      <td>[{'value': 'nos maltratan con el salario', 'en...</td>\n",
       "      <td>amigo hermana comentó dudo vuelva trabajar uni...</td>\n",
       "    </tr>\n",
       "    <tr>\n",
       "      <th>2</th>\n",
       "      <td>respecto a los salarios: todos merecemos un sa...</td>\n",
       "      <td>salario_precario</td>\n",
       "      <td>[{'value': 'salario que nos permita vivir dign...</td>\n",
       "      <td>respecto salarios merecemos salario permita vi...</td>\n",
       "    </tr>\n",
       "    <tr>\n",
       "      <th>3</th>\n",
       "      <td>@FOVISSSTEmx @fovissste Gracias por su atenció...</td>\n",
       "      <td>derechos_laborales</td>\n",
       "      <td>[{'value': 'no es un esquema que favorezca al ...</td>\n",
       "      <td>fovissstemx fovissste gracias atención desgrac...</td>\n",
       "    </tr>\n",
       "    <tr>\n",
       "      <th>4</th>\n",
       "      <td>docentes venezolanos, perciben salarios insufi...</td>\n",
       "      <td>salario_precario</td>\n",
       "      <td>[{'value': 'perciben salarios insuficientes', ...</td>\n",
       "      <td>docentes venezolanos perciben salarios insufic...</td>\n",
       "    </tr>\n",
       "  </tbody>\n",
       "</table>\n",
       "</div>"
      ],
      "text/plain": [
       "                                                text              intent  \\\n",
       "0  ni siquiera decir \"palabras sucias\" te hace me...     abuso_autoridad   \n",
       "1  un amigo de mi hermana le comentó, dudo mucho ...    salario_precario   \n",
       "2  respecto a los salarios: todos merecemos un sa...    salario_precario   \n",
       "3  @FOVISSSTEmx @fovissste Gracias por su atenció...  derechos_laborales   \n",
       "4  docentes venezolanos, perciben salarios insufi...    salario_precario   \n",
       "\n",
       "                                            entities  \\\n",
       "0     [{'value': 'mal jefe,', 'entity': 'denuncia'}]   \n",
       "1  [{'value': 'nos maltratan con el salario', 'en...   \n",
       "2  [{'value': 'salario que nos permita vivir dign...   \n",
       "3  [{'value': 'no es un esquema que favorezca al ...   \n",
       "4  [{'value': 'perciben salarios insuficientes', ...   \n",
       "\n",
       "                                            text_pre  \n",
       "0  siquiera decir palabras sucias hace menos prof...  \n",
       "1  amigo hermana comentó dudo vuelva trabajar uni...  \n",
       "2  respecto salarios merecemos salario permita vi...  \n",
       "3  fovissstemx fovissste gracias atención desgrac...  \n",
       "4  docentes venezolanos perciben salarios insufic...  "
      ]
     },
     "execution_count": 13,
     "metadata": {},
     "output_type": "execute_result"
    }
   ],
   "source": [
    "########## Preprocesamiento de texto ###############\n",
    "\n",
    "def preprocess_text(text):\n",
    "    # Eliminando caracteres especiales y números\n",
    "    text = re.sub(r'[^a-zA-ZáéíóúÁÉÍÓÚ\\s]', '', text, re.I|re.A)\n",
    "    # Convertir a minúsculas\n",
    "    text = text.lower()\n",
    "    # eliminando stopwords\n",
    "    stop_words = set(stopwords.words('spanish'))\n",
    "    word_tokens = word_tokenize(text)\n",
    "    text = [i for i in word_tokens if not i in stop_words]\n",
    "    text = ' '.join(text)\n",
    "    return text\n",
    "\n",
    "# Aplicando la función de preprocesamiento a los datos de entrenamiento y prueba\n",
    "\n",
    "train_df['text_pre'] = train_df['text'].apply(preprocess_text)\n",
    "\n",
    "test_df['text_pre'] = test_df['text'].apply(preprocess_text)\n",
    "\n",
    "train_df.head()"
   ]
  },
  {
   "cell_type": "markdown",
   "metadata": {},
   "source": [
    "## 4. Modelo de Clasificación de Texto\n",
    "\n",
    "Una vez que hemos preprocesado los textos, podemos aplicar un modelo de clasificación no supervisado para agruparlos en categorías o clusters. En este caso, utilizaremos el algoritmo de clustering KMeans para agrupar los textos en clusters. AUnque primero debemos convertir los textos en vectores numéricos utilizando embeddings de palabras.\n"
   ]
  },
  {
   "cell_type": "code",
   "execution_count": 14,
   "metadata": {},
   "outputs": [
    {
     "data": {
      "text/html": [
       "<div>\n",
       "<style scoped>\n",
       "    .dataframe tbody tr th:only-of-type {\n",
       "        vertical-align: middle;\n",
       "    }\n",
       "\n",
       "    .dataframe tbody tr th {\n",
       "        vertical-align: top;\n",
       "    }\n",
       "\n",
       "    .dataframe thead th {\n",
       "        text-align: right;\n",
       "    }\n",
       "</style>\n",
       "<table border=\"1\" class=\"dataframe\">\n",
       "  <thead>\n",
       "    <tr style=\"text-align: right;\">\n",
       "      <th></th>\n",
       "      <th>text</th>\n",
       "      <th>intent</th>\n",
       "      <th>entities</th>\n",
       "      <th>text_pre</th>\n",
       "      <th>text_tokens</th>\n",
       "    </tr>\n",
       "  </thead>\n",
       "  <tbody>\n",
       "    <tr>\n",
       "      <th>0</th>\n",
       "      <td>ni siquiera decir \"palabras sucias\" te hace me...</td>\n",
       "      <td>abuso_autoridad</td>\n",
       "      <td>[{'value': 'mal jefe,', 'entity': 'denuncia'}]</td>\n",
       "      <td>siquiera decir palabras sucias hace menos prof...</td>\n",
       "      <td>[siquiera, decir, palabras, sucias, hace, meno...</td>\n",
       "    </tr>\n",
       "    <tr>\n",
       "      <th>1</th>\n",
       "      <td>un amigo de mi hermana le comentó, dudo mucho ...</td>\n",
       "      <td>salario_precario</td>\n",
       "      <td>[{'value': 'nos maltratan con el salario', 'en...</td>\n",
       "      <td>amigo hermana comentó dudo vuelva trabajar uni...</td>\n",
       "      <td>[amigo, hermana, comentó, dudo, vuelva, trabaj...</td>\n",
       "    </tr>\n",
       "    <tr>\n",
       "      <th>2</th>\n",
       "      <td>respecto a los salarios: todos merecemos un sa...</td>\n",
       "      <td>salario_precario</td>\n",
       "      <td>[{'value': 'salario que nos permita vivir dign...</td>\n",
       "      <td>respecto salarios merecemos salario permita vi...</td>\n",
       "      <td>[respecto, salarios, merecemos, salario, permi...</td>\n",
       "    </tr>\n",
       "    <tr>\n",
       "      <th>3</th>\n",
       "      <td>@FOVISSSTEmx @fovissste Gracias por su atenció...</td>\n",
       "      <td>derechos_laborales</td>\n",
       "      <td>[{'value': 'no es un esquema que favorezca al ...</td>\n",
       "      <td>fovissstemx fovissste gracias atención desgrac...</td>\n",
       "      <td>[fovissstemx, fovissste, gracias, atención, de...</td>\n",
       "    </tr>\n",
       "    <tr>\n",
       "      <th>4</th>\n",
       "      <td>docentes venezolanos, perciben salarios insufi...</td>\n",
       "      <td>salario_precario</td>\n",
       "      <td>[{'value': 'perciben salarios insuficientes', ...</td>\n",
       "      <td>docentes venezolanos perciben salarios insufic...</td>\n",
       "      <td>[docentes, venezolanos, perciben, salarios, in...</td>\n",
       "    </tr>\n",
       "  </tbody>\n",
       "</table>\n",
       "</div>"
      ],
      "text/plain": [
       "                                                text              intent  \\\n",
       "0  ni siquiera decir \"palabras sucias\" te hace me...     abuso_autoridad   \n",
       "1  un amigo de mi hermana le comentó, dudo mucho ...    salario_precario   \n",
       "2  respecto a los salarios: todos merecemos un sa...    salario_precario   \n",
       "3  @FOVISSSTEmx @fovissste Gracias por su atenció...  derechos_laborales   \n",
       "4  docentes venezolanos, perciben salarios insufi...    salario_precario   \n",
       "\n",
       "                                            entities  \\\n",
       "0     [{'value': 'mal jefe,', 'entity': 'denuncia'}]   \n",
       "1  [{'value': 'nos maltratan con el salario', 'en...   \n",
       "2  [{'value': 'salario que nos permita vivir dign...   \n",
       "3  [{'value': 'no es un esquema que favorezca al ...   \n",
       "4  [{'value': 'perciben salarios insuficientes', ...   \n",
       "\n",
       "                                            text_pre  \\\n",
       "0  siquiera decir palabras sucias hace menos prof...   \n",
       "1  amigo hermana comentó dudo vuelva trabajar uni...   \n",
       "2  respecto salarios merecemos salario permita vi...   \n",
       "3  fovissstemx fovissste gracias atención desgrac...   \n",
       "4  docentes venezolanos perciben salarios insufic...   \n",
       "\n",
       "                                         text_tokens  \n",
       "0  [siquiera, decir, palabras, sucias, hace, meno...  \n",
       "1  [amigo, hermana, comentó, dudo, vuelva, trabaj...  \n",
       "2  [respecto, salarios, merecemos, salario, permi...  \n",
       "3  [fovissstemx, fovissste, gracias, atención, de...  \n",
       "4  [docentes, venezolanos, perciben, salarios, in...  "
      ]
     },
     "execution_count": 14,
     "metadata": {},
     "output_type": "execute_result"
    }
   ],
   "source": [
    "################## Entrenamiento de Word2Vec ####################\n",
    "\n",
    "# Tokenizando el texto\n",
    "\n",
    "train_df['text_tokens'] = train_df['text_pre'].apply(lambda x: x.split())\n",
    "test_df['text_tokens'] = test_df['text_pre'].apply(lambda x: x.split())\n",
    "\n",
    "train_df.head()"
   ]
  },
  {
   "cell_type": "code",
   "execution_count": 15,
   "metadata": {},
   "outputs": [],
   "source": [
    "# Entrenando el modelo Doc2Vec\n",
    "\n",
    "documents = [TaggedDocument(doc, [i]) for i, doc in enumerate(train_df['text_tokens'])]\n",
    "\n",
    "# Definiendo el modelo Doc2Vec\n",
    "\n",
    "model = Doc2Vec(documents, vector_size=100, window=2, min_count=1, workers=4)\n",
    "\n",
    "# Guardando el modelo entrenado\n",
    "\n",
    "model.save(\"doc2vec.model\")\n"
   ]
  },
  {
   "cell_type": "code",
   "execution_count": 18,
   "metadata": {},
   "outputs": [
    {
     "data": {
      "text/plain": [
       "[('tv', 0.3388918340206146),\n",
       " ('páginas', 0.33612701296806335),\n",
       " ('inspección', 0.32902324199676514),\n",
       " ('casa', 0.30751997232437134),\n",
       " ('gómezpalacios', 0.3025720715522766),\n",
       " ('interiorizado', 0.3020995855331421),\n",
       " ('fernand', 0.28665125370025635),\n",
       " ('cuantamugre', 0.28345754742622375),\n",
       " ('terminó', 0.27055153250694275),\n",
       " ('maldonado', 0.2618955671787262)]"
      ]
     },
     "execution_count": 18,
     "metadata": {},
     "output_type": "execute_result"
    }
   ],
   "source": [
    "# Cargando el modelo entrenado\n",
    "\n",
    "model = Doc2Vec.load(\"doc2vec.model\")\n",
    "\n",
    "# Obteniendo el vector de una palabra\n",
    "\n",
    "model.wv['trabajo']\n",
    "\n",
    "# Obteniendo las palabras más similares a una palabra\n",
    "\n",
    "model.wv.most_similar('abuso')\n"
   ]
  },
  {
   "cell_type": "code",
   "execution_count": 19,
   "metadata": {},
   "outputs": [
    {
     "data": {
      "text/plain": [
       "0.10175322"
      ]
     },
     "execution_count": 19,
     "metadata": {},
     "output_type": "execute_result"
    }
   ],
   "source": [
    "# Obteniendo la similitud entre dos palabras\n",
    "\n",
    "model.wv.similarity('trabajo', 'empleo')\n"
   ]
  },
  {
   "cell_type": "code",
   "execution_count": 20,
   "metadata": {},
   "outputs": [
    {
     "data": {
      "text/plain": [
       "cluster\n",
       "3    55\n",
       "4    37\n",
       "0    37\n",
       "2    29\n",
       "1    26\n",
       "Name: count, dtype: int64"
      ]
     },
     "execution_count": 20,
     "metadata": {},
     "output_type": "execute_result"
    }
   ],
   "source": [
    "#### Hacemos un clustering de los tweets con KMeans\n",
    "\n",
    "from sklearn.cluster import KMeans\n",
    "\n",
    "# Obteniendo los vectores de los tweets\n",
    "\n",
    "vectors = [model.infer_vector(doc) for doc in train_df['text_tokens']]\n",
    "\n",
    "# Definiendo el modelo KMeans\n",
    "\n",
    "kmeans = KMeans(n_clusters=5, random_state=0)\n",
    "\n",
    "# Entrenando el modelo KMeans\n",
    "\n",
    "kmeans.fit(vectors)\n",
    "\n",
    "# Obteniendo las etiquetas de los clusters\n",
    "\n",
    "train_df['cluster'] = kmeans.labels_\n",
    "\n",
    "# Explorando los clusters\n",
    "\n",
    "train_df['cluster'].value_counts()\n",
    "\n"
   ]
  },
  {
   "cell_type": "code",
   "execution_count": 21,
   "metadata": {},
   "outputs": [
    {
     "data": {
      "text/plain": [
       "5                                                                                                                            es un poco injusto que haya gente que batalla para tener un buen salario o trabajo y que haya gente que esté bien acomodada y viviendo bien sin necesidad de estar batallando\n",
       "8                                                                                                                                                                                 Dos profesoras e investigadoras de la Universidad del Istmo #Unistmo, campus Ixtepec, denunciaron violencia laboral y h…\n",
       "10                                                                                                                                                                       los #bomberosforestales siguen su lucha! por unas #condicioneslaborales dignas. por no tener que lamentarse tarde. soluciones ya!\n",
       "13                                                                       @CarolinaPiparo Carolina...los trabajadores pagamos Ganancias ( MM dijo \"ningún trabajador pagará, etc...) de n/sueldo en blanco. Estos son evasores, y fugadores. De paso devuelven la que se llevaron, guita que entró del FMI.\n",
       "18                                                        Se aumentará un 15% la cuantía del Ingreso Mínimo Vital y se ampliarán los beneficios del bono social eléctrico con el objetivo de que hasta dos millones de familias se encuentren bajo su paraguas.\\n\\nSalario social de Rajoy, lo otro igual.\n",
       "32                                                                                                                                                                                                                                       Aguantarme el perfume de mi jefe debe considerarse abuso laboral.\n",
       "38    @prcPeru @PedroCastilloTe Penal, civil, laboral nadie debe ser sometido a dos procesos por el mismo motivo, como todos estos politicos son funcionarios publicos, aun asi, la ley 27444 LPAD tambien lo prohibe. Ningun Estado del Mundo Ampara el Abuso del Derecho. Esto es una venganza politica.\n",
       "53                                                                                                                                                                          No ajusten al Pueblo trabajador. Es hora de ser firmes con los fuertes para que Argentina pueda crecer. Sanciones a empresari…\n",
       "57                                                                                                                                                                             A través de un comunicado Averu señaló que la vulneración de los derechos laborales del sector universitario, constituye u…\n",
       "58                                                            Manuela Muñoz, secretaria general del Sindicato trabajadoras casas particulares de E.R: “nos preocupa la 5ta categoría porque con el último aumento, ellos quedan con el salario más bajo. Por eso pedíamos esta reunión enseguida” #Aumento\n",
       "Name: text, dtype: object"
      ]
     },
     "execution_count": 21,
     "metadata": {},
     "output_type": "execute_result"
    }
   ],
   "source": [
    "### Veamos los tweets de un cluster\n",
    "\n",
    "pd.set_option('display.max_colwidth', None)\n",
    "\n",
    "train_df[train_df['cluster'] == 0]['text'].head(10)"
   ]
  },
  {
   "cell_type": "code",
   "execution_count": 22,
   "metadata": {},
   "outputs": [
    {
     "name": "stdout",
     "output_type": "stream",
     "text": [
      "Cluster  0\n",
      "[('tv', 0.3773950934410095), ('morena', 0.35579192638397217), ('salario', 0.3412707448005676), ('medida', 0.32781466841697693), ('quedar', 0.32356029748916626), ('hoy', 0.2996211349964142), ('salum', 0.29874157905578613), ('si', 0.2883167862892151), ('superintendencia', 0.28237178921699524), ('recae', 0.28189268708229065)]\n",
      "\n",
      "\n",
      "\n",
      "Cluster  1\n",
      "[('si', 0.31819480657577515), ('presidenta', 0.303609699010849), ('ls', 0.3002225160598755), ('planteamos', 0.29824796319007874), ('ahorra', 0.2975274622440338), ('sacando', 0.2972254753112793), ('necesitan', 0.29635271430015564), ('salum', 0.284090131521225), ('locales', 0.2769164443016052), ('salario', 0.2698799669742584)]\n",
      "\n",
      "\n",
      "\n",
      "Cluster  2\n",
      "[('vida', 0.34470483660697937), ('q', 0.3345752954483032), ('trabajo', 0.32723310589790344), ('región', 0.31122347712516785), ('todas', 0.300120085477829), ('firmes', 0.2965523898601532), ('misoginia', 0.2937416136264801), ('diciendo', 0.28792816400527954), ('universidad', 0.286060094833374), ('importante', 0.28079459071159363)]\n",
      "\n",
      "\n",
      "\n",
      "Cluster  3\n",
      "[('salario', 0.48225143551826477), ('montonera', 0.32935452461242676), ('reciben', 0.3164234161376953), ('tantas', 0.316129207611084), ('enap', 0.3131885826587677), ('aos', 0.3088901937007904), ('siga', 0.30856800079345703), ('grandes', 0.30560415983200073), ('laboral', 0.2977423667907715), ('tv', 0.29389530420303345)]\n",
      "\n",
      "\n",
      "\n",
      "Cluster  4\n",
      "[('morena', 0.3896642327308655), ('si', 0.38297003507614136), ('d', 0.3739663064479828), ('condiciones', 0.3628110885620117), ('ls', 0.34032583236694336), ('grandes', 0.3210464119911194), ('siempre', 0.30892395973205566), ('lugar', 0.30063462257385254), ('fovissste', 0.29405975341796875), ('firmes', 0.2878590524196625)]\n",
      "\n",
      "\n",
      "\n"
     ]
    }
   ],
   "source": [
    "### Veamos el centroide de cada cluster\n",
    "\n",
    "for i in range(5):\n",
    "    print(\"Cluster \", i)\n",
    "    print(model.wv.most_similar(positive=[kmeans.cluster_centers_[i]], topn=10))\n",
    "    print(\"\\n\\n\")"
   ]
  },
  {
   "cell_type": "code",
   "execution_count": null,
   "metadata": {},
   "outputs": [],
   "source": []
  }
 ],
 "metadata": {
  "kernelspec": {
   "display_name": "nlp_ean",
   "language": "python",
   "name": "python3"
  },
  "language_info": {
   "codemirror_mode": {
    "name": "ipython",
    "version": 3
   },
   "file_extension": ".py",
   "mimetype": "text/x-python",
   "name": "python",
   "nbconvert_exporter": "python",
   "pygments_lexer": "ipython3",
   "version": "3.10.14"
  }
 },
 "nbformat": 4,
 "nbformat_minor": 2
}
