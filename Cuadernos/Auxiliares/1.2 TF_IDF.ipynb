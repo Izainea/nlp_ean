{
 "cells": [
  {
   "cell_type": "markdown",
   "metadata": {},
   "source": [
    "# TF-IDF\n",
    "\n",
    "## Introducción\n",
    "\n",
    "TF-IDF (Term Frequency-Inverse Document Frequency) es una técnica de procesamiento de texto que se utiliza para evaluar la importancia de una palabra en un documento. Esta técnica se basa en dos conceptos:\n",
    "\n",
    "- **Frecuencia de término (TF)**: mide la frecuencia con la que una palabra aparece en un documento. La fórmula para calcular la frecuencia de término es la siguiente:\n",
    "\n",
    "$$TF(t) = \\frac{Número\\ de\\ veces\\ que\\ la\\ palabra\\ t\\ aparece\\ en\\ un\\ documento}{Número\\ total\\ de\\ palabras\\ en\\ el\\ documento}$$\n",
    "\n",
    "- **Frecuencia inversa de documento (IDF)**: mide la importancia de una palabra en un conjunto de documentos. La fórmula para calcular la frecuencia inversa de documento es la siguiente:\n",
    "\n",
    "$$IDF(t) = \\log\\left(\\frac{Número\\ total\\ de\\ documentos}{Número\\ de\\ documentos\\ que\\ contienen\\ la\\ palabra\\ t}\\right)$$\n",
    "\n",
    "El valor de TF-IDF se calcula multiplicando la frecuencia de término por la frecuencia inversa de documento:\n",
    "\n",
    "$$TF-IDF(t) = TF(t) \\times IDF(t)$$\n",
    "\n",
    "## Objetivo\n",
    "\n",
    "El objetivo de este notebook es mostrar cómo se puede calcular el valor de TF-IDF de un conjunto de documentos utilizando la librería `scikit-learn`.\n",
    "\n",
    "\n",
    "## 1. Importar librerías\n",
    "\n",
    "En este caso, se importarán las librerías necesarias para realizar el preprocesamiento de texto."
   ]
  },
  {
   "cell_type": "code",
   "execution_count": null,
   "metadata": {},
   "outputs": [],
   "source": [
    "### librerias necesarias TF-IDF\n",
    "\n",
    "import pandas as pd\n",
    "import numpy as np\n",
    "import re\n",
    "import nltk\n",
    "from nltk.corpus import stopwords\n",
    "from nltk.tokenize import word_tokenize\n",
    "from nltk.stem import SnowballStemmer\n",
    "\n",
    "\n",
    "### Descargar stopwords\n",
    "nltk.download('stopwords')\n",
    "nltk.download('punkt')\n",
    "\n",
    "\n",
    "from sklearn.feature_extraction.text import TfidfVectorizer\n"
   ]
  },
  {
   "cell_type": "markdown",
   "metadata": {},
   "source": [
    "## 2. Cargar el texto\n",
    "\n",
    "Para este ejercicio inicial usaremos un texto sencillo, el cual se cargará en una variable."
   ]
  },
  {
   "cell_type": "code",
   "execution_count": null,
   "metadata": {},
   "outputs": [],
   "source": [
    "texto_1 = \"\"\"Hace varios años, en el pelotón de fusilamiento, el coronel Aureliano Buendía había de recordar aquella tarde remota en que su padre lo llevó a conocer el hielo. \"\"\"\n",
    "texto_2 = \"\"\"Hace tanto tiempo que no me acuerdo de nada, pero recuerdo que mi padre me llevó a conocer el hielo. \"\"\"\n",
    "texto_3 = \"\"\"Hace tiempo que ocurrió la era de hielo, ahorita que solo soy un  perezoso recuerdo aquellos días tan bellos con mis amigos, un mamut y un dientes de sable. \"\"\"\n",
    "\n",
    "corpus = [texto_1, texto_2, texto_3]"
   ]
  },
  {
   "cell_type": "markdown",
   "metadata": {},
   "source": [
    "## 3. Calcular TF-IDF\n",
    "\n",
    "Ahora que ya tenemos el texto tokenizado, podemos calcular el valor de TF-IDF. Para ello, utilizaremos la clase `TfidfVectorizer` de `scikit-learn`. Esta clase convierte una colección de documentos en una matriz de términos y calcula el valor de TF-IDF para cada término."
   ]
  },
  {
   "cell_type": "code",
   "execution_count": null,
   "metadata": {},
   "outputs": [],
   "source": [
    "##################### TF-IDF #####################\n",
    "# Crear un objeto de la clase TfidfVectorizer\n",
    "\n",
    "tfidf = TfidfVectorizer()\n",
    "\n",
    "# Ajustar el objeto a los datos y transformarlos\n",
    "\n",
    "tfidf_matrix = tfidf.fit_transform(corpus)\n",
    "\n",
    "# Obtener los nombres de las palabras\n",
    "\n",
    "words = tfidf.get_feature_names_out()\n",
    "\n",
    "# Crear un DataFrame con los resultados\n",
    "\n",
    "tfidf_df = pd.DataFrame(tfidf_matrix.toarray(), columns=words)\n",
    "tfidf_df"
   ]
  },
  {
   "cell_type": "code",
   "execution_count": null,
   "metadata": {},
   "outputs": [],
   "source": [
    "tfidf_df[['hace','hielo','padre','años','coronel','mamut','nada']]"
   ]
  },
  {
   "cell_type": "markdown",
   "metadata": {},
   "source": [
    "## 4. Conclusiones\n",
    "\n",
    "Observe que el valor de TF-IDF es más alto para las palabras que son más importantes en un documento. Por ejemplo, en el documento de ejemplo, el valor de TF-IDF es más alto para las palabras \"años\" y \"nada\" que para las palabras \"hace\" y \"padre\".\n",
    "\n",
    "También observe que cada documento tiene un vector de TF-IDF asociado, correspondiente a la fila de la matriz de términos. Así mismo, cada columna de la matriz de términos corresponde a un término en el vocabulario. Esta matriz se puede utilizar para entrenar un modelo de aprendizaje automático, como un clasificador de texto o un sistema de recomendación."
   ]
  }
 ],
 "metadata": {
  "kernelspec": {
   "display_name": "nlp_ean",
   "language": "python",
   "name": "python3"
  },
  "language_info": {
   "codemirror_mode": {
    "name": "ipython",
    "version": 3
   },
   "file_extension": ".py",
   "mimetype": "text/x-python",
   "name": "python",
   "nbconvert_exporter": "python",
   "pygments_lexer": "ipython3",
   "version": "3.10.14"
  }
 },
 "nbformat": 4,
 "nbformat_minor": 2
}
